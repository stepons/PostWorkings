{
 "cells": [
  {
   "cell_type": "markdown",
   "metadata": {},
   "source": [
    "# Jupyter notebook\n",
    "## Data cleaning and transformation\n",
    "Minimal checking of the datasets was required."
   ]
  },
  {
   "cell_type": "code",
   "execution_count": 10,
   "metadata": {},
   "outputs": [],
   "source": [
    "import pandas as pd\n",
    "import os"
   ]
  },
  {
   "cell_type": "code",
   "execution_count": 5,
   "metadata": {},
   "outputs": [
    {
     "name": "stdout",
     "output_type": "stream",
     "text": [
      "['Africa' 'ASEAN' 'Asia' 'EU' 'Europe' 'G20' 'G7'\n",
      " 'Latin America and Caribbean' 'Middle East' 'North America' 'Oceania'\n",
      " 'OECD' 'World']\n"
     ]
    }
   ],
   "source": [
    "df = pd.read_csv('Ember_global electricity_2022.csv')\n",
    "df_region = df.loc [df ['Area type'] == 'Region']\n",
    "print(df_region['Area'].unique())"
   ]
  },
  {
   "cell_type": "code",
   "execution_count": 6,
   "metadata": {},
   "outputs": [
    {
     "data": {
      "text/plain": [
       "Area                        0\n",
       "Country code            19602\n",
       "Year                        0\n",
       "Area type                   0\n",
       "Continent               19602\n",
       "Ember region            19602\n",
       "EU                      19602\n",
       "OECD                    19602\n",
       "G20                     19602\n",
       "G7                      19602\n",
       "ASEAN                   19602\n",
       "Category                    0\n",
       "Subcategory                 0\n",
       "Variable                    0\n",
       "Unit                        0\n",
       "Value                   20281\n",
       "YoY absolute change    105435\n",
       "YoY % change           185589\n",
       "dtype: int64"
      ]
     },
     "execution_count": 6,
     "metadata": {},
     "output_type": "execute_result"
    }
   ],
   "source": [
    "df.isnull ().sum (axis=0)"
   ]
  },
  {
   "cell_type": "code",
   "execution_count": 8,
   "metadata": {},
   "outputs": [
    {
     "data": {
      "text/plain": [
       "Area                        0\n",
       "Country code            19602\n",
       "Year                        0\n",
       "Area type                   0\n",
       "Continent               19602\n",
       "Ember region            19602\n",
       "EU                      19602\n",
       "OECD                    19602\n",
       "G20                     19602\n",
       "G7                      19602\n",
       "ASEAN                   19602\n",
       "Category                    0\n",
       "Subcategory                 0\n",
       "Variable                    0\n",
       "Unit                        0\n",
       "Value                   20281\n",
       "YoY absolute change    105435\n",
       "YoY % change           185589\n",
       "dtype: int64"
      ]
     },
     "execution_count": 8,
     "metadata": {},
     "output_type": "execute_result"
    }
   ],
   "source": [
    "df.isna().sum()"
   ]
  },
  {
   "cell_type": "code",
   "execution_count": 7,
   "metadata": {},
   "outputs": [
    {
     "data": {
      "text/html": [
       "<div>\n",
       "<style scoped>\n",
       "    .dataframe tbody tr th:only-of-type {\n",
       "        vertical-align: middle;\n",
       "    }\n",
       "\n",
       "    .dataframe tbody tr th {\n",
       "        vertical-align: top;\n",
       "    }\n",
       "\n",
       "    .dataframe thead th {\n",
       "        text-align: right;\n",
       "    }\n",
       "</style>\n",
       "<table border=\"1\" class=\"dataframe\">\n",
       "  <thead>\n",
       "    <tr style=\"text-align: right;\">\n",
       "      <th></th>\n",
       "      <th>Year</th>\n",
       "      <th>EU</th>\n",
       "      <th>OECD</th>\n",
       "      <th>G20</th>\n",
       "      <th>G7</th>\n",
       "      <th>ASEAN</th>\n",
       "      <th>Value</th>\n",
       "      <th>YoY absolute change</th>\n",
       "      <th>YoY % change</th>\n",
       "    </tr>\n",
       "  </thead>\n",
       "  <tbody>\n",
       "    <tr>\n",
       "      <th>count</th>\n",
       "      <td>331846.000000</td>\n",
       "      <td>312244.000000</td>\n",
       "      <td>312244.000000</td>\n",
       "      <td>312244.000000</td>\n",
       "      <td>312244.000000</td>\n",
       "      <td>312244.000000</td>\n",
       "      <td>311565.000000</td>\n",
       "      <td>226411.000000</td>\n",
       "      <td>146257.000000</td>\n",
       "    </tr>\n",
       "    <tr>\n",
       "      <th>mean</th>\n",
       "      <td>2010.717905</td>\n",
       "      <td>0.131250</td>\n",
       "      <td>0.182819</td>\n",
       "      <td>0.089693</td>\n",
       "      <td>0.033698</td>\n",
       "      <td>0.046464</td>\n",
       "      <td>65.610708</td>\n",
       "      <td>1.868159</td>\n",
       "      <td>9.646521</td>\n",
       "    </tr>\n",
       "    <tr>\n",
       "      <th>std</th>\n",
       "      <td>6.466282</td>\n",
       "      <td>0.337674</td>\n",
       "      <td>0.386518</td>\n",
       "      <td>0.285741</td>\n",
       "      <td>0.180451</td>\n",
       "      <td>0.210487</td>\n",
       "      <td>561.767847</td>\n",
       "      <td>25.968933</td>\n",
       "      <td>163.013167</td>\n",
       "    </tr>\n",
       "    <tr>\n",
       "      <th>min</th>\n",
       "      <td>2000.000000</td>\n",
       "      <td>0.000000</td>\n",
       "      <td>0.000000</td>\n",
       "      <td>0.000000</td>\n",
       "      <td>0.000000</td>\n",
       "      <td>0.000000</td>\n",
       "      <td>-77.030000</td>\n",
       "      <td>-611.460000</td>\n",
       "      <td>-51275.000000</td>\n",
       "    </tr>\n",
       "    <tr>\n",
       "      <th>25%</th>\n",
       "      <td>2005.000000</td>\n",
       "      <td>0.000000</td>\n",
       "      <td>0.000000</td>\n",
       "      <td>0.000000</td>\n",
       "      <td>0.000000</td>\n",
       "      <td>0.000000</td>\n",
       "      <td>0.000000</td>\n",
       "      <td>0.000000</td>\n",
       "      <td>0.000000</td>\n",
       "    </tr>\n",
       "    <tr>\n",
       "      <th>50%</th>\n",
       "      <td>2011.000000</td>\n",
       "      <td>0.000000</td>\n",
       "      <td>0.000000</td>\n",
       "      <td>0.000000</td>\n",
       "      <td>0.000000</td>\n",
       "      <td>0.000000</td>\n",
       "      <td>0.190000</td>\n",
       "      <td>0.000000</td>\n",
       "      <td>0.940000</td>\n",
       "    </tr>\n",
       "    <tr>\n",
       "      <th>75%</th>\n",
       "      <td>2016.000000</td>\n",
       "      <td>0.000000</td>\n",
       "      <td>0.000000</td>\n",
       "      <td>0.000000</td>\n",
       "      <td>0.000000</td>\n",
       "      <td>0.000000</td>\n",
       "      <td>7.970000</td>\n",
       "      <td>0.050000</td>\n",
       "      <td>9.000000</td>\n",
       "    </tr>\n",
       "    <tr>\n",
       "      <th>max</th>\n",
       "      <td>2022.000000</td>\n",
       "      <td>1.000000</td>\n",
       "      <td>1.000000</td>\n",
       "      <td>1.000000</td>\n",
       "      <td>1.000000</td>\n",
       "      <td>1.000000</td>\n",
       "      <td>28657.030000</td>\n",
       "      <td>1556.100000</td>\n",
       "      <td>10500.000000</td>\n",
       "    </tr>\n",
       "  </tbody>\n",
       "</table>\n",
       "</div>"
      ],
      "text/plain": [
       "                Year             EU           OECD            G20  \\\n",
       "count  331846.000000  312244.000000  312244.000000  312244.000000   \n",
       "mean     2010.717905       0.131250       0.182819       0.089693   \n",
       "std         6.466282       0.337674       0.386518       0.285741   \n",
       "min      2000.000000       0.000000       0.000000       0.000000   \n",
       "25%      2005.000000       0.000000       0.000000       0.000000   \n",
       "50%      2011.000000       0.000000       0.000000       0.000000   \n",
       "75%      2016.000000       0.000000       0.000000       0.000000   \n",
       "max      2022.000000       1.000000       1.000000       1.000000   \n",
       "\n",
       "                  G7          ASEAN          Value  YoY absolute change  \\\n",
       "count  312244.000000  312244.000000  311565.000000        226411.000000   \n",
       "mean        0.033698       0.046464      65.610708             1.868159   \n",
       "std         0.180451       0.210487     561.767847            25.968933   \n",
       "min         0.000000       0.000000     -77.030000          -611.460000   \n",
       "25%         0.000000       0.000000       0.000000             0.000000   \n",
       "50%         0.000000       0.000000       0.190000             0.000000   \n",
       "75%         0.000000       0.000000       7.970000             0.050000   \n",
       "max         1.000000       1.000000   28657.030000          1556.100000   \n",
       "\n",
       "        YoY % change  \n",
       "count  146257.000000  \n",
       "mean        9.646521  \n",
       "std       163.013167  \n",
       "min    -51275.000000  \n",
       "25%         0.000000  \n",
       "50%         0.940000  \n",
       "75%         9.000000  \n",
       "max     10500.000000  "
      ]
     },
     "execution_count": 7,
     "metadata": {},
     "output_type": "execute_result"
    }
   ],
   "source": [
    "df.describe()\n"
   ]
  },
  {
   "cell_type": "code",
   "execution_count": 11,
   "metadata": {},
   "outputs": [],
   "source": [
    "filepath_gdp = os.path.join(os.getcwd(), 'GDP per capita World Bank', 'API_NY.GDP.PCAP.CD_DS2_en_csv_v2_5994720.csv')\n",
    "gdp_df = pd.read_csv(filepath_gdp)"
   ]
  },
  {
   "cell_type": "code",
   "execution_count": 12,
   "metadata": {},
   "outputs": [
    {
     "data": {
      "text/plain": [
       "Country Name        0\n",
       "Country Code        0\n",
       "Indicator Name      0\n",
       "Indicator Code      0\n",
       "1960              134\n",
       "                 ... \n",
       "2018                8\n",
       "2019                8\n",
       "2020                8\n",
       "2021               14\n",
       "2022               32\n",
       "Length: 67, dtype: int64"
      ]
     },
     "execution_count": 12,
     "metadata": {},
     "output_type": "execute_result"
    }
   ],
   "source": [
    "gdp_df.isna().sum()"
   ]
  },
  {
   "cell_type": "code",
   "execution_count": 14,
   "metadata": {},
   "outputs": [
    {
     "data": {
      "text/plain": [
       "0       True\n",
       "1      False\n",
       "2       True\n",
       "3      False\n",
       "4      False\n",
       "       ...  \n",
       "261    False\n",
       "262    False\n",
       "263    False\n",
       "264    False\n",
       "265    False\n",
       "Name: 2022, Length: 266, dtype: bool"
      ]
     },
     "execution_count": 14,
     "metadata": {},
     "output_type": "execute_result"
    }
   ],
   "source": [
    "gdp_df['2022'].isna()"
   ]
  }
 ],
 "metadata": {
  "kernelspec": {
   "display_name": "Python 3",
   "language": "python",
   "name": "python3"
  },
  "language_info": {
   "codemirror_mode": {
    "name": "ipython",
    "version": 3
   },
   "file_extension": ".py",
   "mimetype": "text/x-python",
   "name": "python",
   "nbconvert_exporter": "python",
   "pygments_lexer": "ipython3",
   "version": "3.11.1"
  }
 },
 "nbformat": 4,
 "nbformat_minor": 2
}
